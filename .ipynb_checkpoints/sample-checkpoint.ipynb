{
 "cells": [
  {
   "cell_type": "code",
   "execution_count": null,
   "id": "initial_id",
   "metadata": {
    "collapsed": true,
    "is_executing": true
   },
   "outputs": [],
   "source": [
    "import requests\n",
    "from bs4 import BeautifulSoup\n",
    "\n",
    "# Create a session object\n",
    "s = requests.Session()\n",
    "\n",
    "# URL for login page\n",
    "login_url = 'https://www.pathofexile.com/login'\n",
    "\n",
    "# Your login credentials\n",
    "payload = {\n",
    "    'login_email': 'your_email',\n",
    "    'login_password': 'your_password'\n",
    "}\n",
    "\n",
    "# Send POST request with credentials\n",
    "response = s.post(login_url, data=payload)\n",
    "\n",
    "# Check if login was successful\n",
    "if response.ok:\n",
    "    # Now you can use the session `s` to access other pages\n",
    "    trade_url = 'https://www.pathofexile.com/trade/search/...'\n",
    "    trade_page = s.get(trade_url)\n",
    "    # Parse the page or API response\n",
    "    # soup = BeautifulSoup(trade_page.content, 'html.parser')\n",
    "else:\n",
    "    print(\"Login failed\")\n",
    "\n",
    "# Continue with data fetching and parsing...\n"
   ]
  },
  {
   "cell_type": "code",
   "outputs": [],
   "source": [
    "a=3\n",
    "print(a)"
   ],
   "metadata": {
    "collapsed": false
   },
   "id": "eef9f333ffc81846"
  },
  {
   "cell_type": "code",
   "outputs": [],
   "source": [],
   "metadata": {
    "collapsed": false
   },
   "id": "19d0c5f6fbb6bd78"
  }
 ],
 "metadata": {
  "kernelspec": {
   "display_name": "Python 3",
   "language": "python",
   "name": "python3"
  },
  "language_info": {
   "codemirror_mode": {
    "name": "ipython",
    "version": 2
   },
   "file_extension": ".py",
   "mimetype": "text/x-python",
   "name": "python",
   "nbconvert_exporter": "python",
   "pygments_lexer": "ipython2",
   "version": "2.7.6"
  }
 },
 "nbformat": 4,
 "nbformat_minor": 5
}
